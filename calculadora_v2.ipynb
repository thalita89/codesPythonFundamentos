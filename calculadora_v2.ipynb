{
 "cells": [
  {
   "cell_type": "markdown",
   "metadata": {},
   "source": [
    "## Calculator version 2 - Lab02 Cap03"
   ]
  },
  {
   "cell_type": "markdown",
   "metadata": {},
   "source": [
    "#### Python Calculator"
   ]
  },
  {
   "cell_type": "code",
   "execution_count": 1,
   "metadata": {
    "scrolled": true
   },
   "outputs": [
    {
     "name": "stdout",
     "output_type": "stream",
     "text": [
      "\n",
      " Considering the classification bellow:\n",
      "\n",
      "1 - addition\n",
      "2 - subtraction\n",
      "3 - multiplication\n",
      "4 - division\n",
      "\n",
      "Choose the operation number (1/2/3/4): 3\n",
      "\n",
      "Enter the first number: 5.529\n",
      "\n",
      "Enter the second number: 314\n",
      "\n",
      "\n",
      "5.529 * 314.0 = 1736.11\n",
      "R -> The result of this multiplication is: 1736.11\n"
     ]
    }
   ],
   "source": [
    "#creating the 4 basic math functions and\n",
    "#rounding results with 2 decimal places\n",
    "\n",
    "def add(num1, num2):\n",
    "    return round((num1 + num2), 2)\n",
    "\n",
    "def sub(num1, num2):\n",
    "    return round((num1 - num2), 2)\n",
    "\n",
    "def mult(num1, num2):\n",
    "    return round((num1 * num2), 2)\n",
    "\n",
    "def div(num1, num2):\n",
    "    return float(round((num1 / num2), 2))\n",
    "\n",
    "#begin calculator\n",
    "\n",
    "print('\\n Considering the classification bellow:\\n')\n",
    "print('1 - addition')\n",
    "print('2 - subtraction')\n",
    "print('3 - multiplication')\n",
    "print('4 - division')\n",
    "\n",
    "op = int(input('\\nChoose the operation number (1/2/3/4): '))\n",
    "num1 = float(input('\\nEnter the first number: '))\n",
    "num2 = float(input ('\\nEnter the second number: ')) \n",
    "\n",
    "add = add(num1, num2)\n",
    "sub = sub(num1, num2)\n",
    "mult = mult(num1, num2)\n",
    "div = div(num1, num2)\n",
    "\n",
    "if (op == 1):\n",
    "    print('\\n')\n",
    "    print(num1, '+', num2, '=', add)\n",
    "    print('R -> The result of this addition is: %s' %(add))\n",
    "    \n",
    "elif (op == 2):\n",
    "    print('\\n')\n",
    "    print(num1, '-', num2, '=', sub)\n",
    "    print('R -> The result of this subtraction is: %s' %(sub))\n",
    "          \n",
    "elif (op == 3):\n",
    "    print('\\n')\n",
    "    print(num1, '*', num2, '=', mult)\n",
    "    print('R -> The result of this multiplication is: %s' %(mult))\n",
    "          \n",
    "elif (op == 4):\n",
    "    print('\\n')\n",
    "    print(num1, '/', num2, '=', div)\n",
    "    print('R -> The result of this division is: %s' %(div))\n",
    "          \n",
    "else:\n",
    "    print('Error: The operation code is out of range (1,2,3,4).')"
   ]
  }
 ],
 "metadata": {
  "kernelspec": {
   "display_name": "Python 3",
   "language": "python",
   "name": "python3"
  },
  "language_info": {
   "codemirror_mode": {
    "name": "ipython",
    "version": 3
   },
   "file_extension": ".py",
   "mimetype": "text/x-python",
   "name": "python",
   "nbconvert_exporter": "python",
   "pygments_lexer": "ipython3",
   "version": "3.7.7"
  }
 },
 "nbformat": 4,
 "nbformat_minor": 4
}
