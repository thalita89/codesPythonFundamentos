{
 "cells": [
  {
   "cell_type": "markdown",
   "metadata": {},
   "source": [
    "## Calculadora Versão 2 - Lab02 Cap 03"
   ]
  },
  {
   "cell_type": "code",
   "execution_count": 2,
   "metadata": {
    "scrolled": true
   },
   "outputs": [
    {
     "name": "stdout",
     "output_type": "stream",
     "text": [
      "Para soma=1, subtração=2, multiplicação=3 e divisão=4, digite o número da operação que deseja realizar 1,2,3 ou 4:1\n",
      "Digite o primeiro número1\n",
      "Digite o segundo número1\n",
      "O resultado desta soma é: 2\n"
     ]
    }
   ],
   "source": [
    "op = int(input('Para soma=1, subtração=2, multiplicação=3 e divisão=4, digite o número da operação que deseja realizar 1,2,3 ou 4:'))\n",
    "num1 = int(input('Digite o primeiro número'))\n",
    "num2 = int(input ('Digite o segundo número')) \n",
    "\n",
    "soma = num1 + num2\n",
    "sub = num1 - num2\n",
    "mult = num1 * num2\n",
    "div = float(num1 / num2)\n",
    "\n",
    "if (op == 1):\n",
    "    print('O resultado desta soma é: %s' %(soma))\n",
    "elif (op == 2):\n",
    "    print('O resultado desta subtração é: %s' %(sub))\n",
    "elif (op == 3):\n",
    "    print('O resultado desta multiplicação é: %s' %(mult))\n",
    "elif (op == 4):\n",
    "    print('O resultado desta divisão é: %s' %(div))\n",
    "else:\n",
    "    print('Error: O código da operação está fora do range (1,2,3,4) solicitado.')"
   ]
  }
 ],
 "metadata": {
  "kernelspec": {
   "display_name": "Python 3",
   "language": "python",
   "name": "python3"
  }
 },
 "nbformat": 4,
 "nbformat_minor": 4
}
