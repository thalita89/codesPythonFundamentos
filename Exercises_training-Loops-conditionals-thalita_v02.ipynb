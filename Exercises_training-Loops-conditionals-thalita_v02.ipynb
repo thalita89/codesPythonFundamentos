{
 "cells": [
  {
   "cell_type": "markdown",
   "metadata": {},
   "source": [
    "# <font color='blue'>Data Science Academy - Python Fundamentos - Cap 3</font>\n",
    "\n",
    "## Exercises: solved by Thalita"
   ]
  },
  {
   "cell_type": "code",
   "execution_count": 1,
   "metadata": {},
   "outputs": [
    {
     "name": "stdout",
     "output_type": "stream",
     "text": [
      "Versão da Linguagem Python Usada Neste Jupyter Notebook: 3.7.7\n"
     ]
    }
   ],
   "source": [
    "# Versão da Linguagem Python\n",
    "from platform import python_version\n",
    "print('Versão da Linguagem Python Usada Neste Jupyter Notebook:', python_version())"
   ]
  },
  {
   "cell_type": "markdown",
   "metadata": {},
   "source": [
    "## Exercícios - Loops e Condiconais"
   ]
  },
  {
   "cell_type": "code",
   "execution_count": 2,
   "metadata": {},
   "outputs": [],
   "source": [
    "# Exercício 1 - Crie uma estrutura que pergunte ao usuário qual o dia da semana. \n",
    "# Se o dia for igual a Domingo ou igual a sábado, \n",
    "# imprima na tela \"Hoje é dia de descanso\", \n",
    "# caso contrário imprima na tela \"Você precisa trabalhar!\""
   ]
  },
  {
   "cell_type": "code",
   "execution_count": 3,
   "metadata": {
    "scrolled": true
   },
   "outputs": [
    {
     "name": "stdout",
     "output_type": "stream",
     "text": [
      "Considering:\n",
      "\n",
      " 1 - monday\n",
      " 2 - tuesday\n",
      " 3 - wednesday\n",
      " 4 - thursday\n",
      " 5 - friday\n",
      " 6 - saturday\n",
      " 7 - sunday\n",
      "\n",
      "Which day is today?2\n",
      "You need to work!\n"
     ]
    }
   ],
   "source": [
    "print('Considering:\\n')\n",
    "print(' 1 - monday\\n 2 - tuesday\\n 3 - wednesday\\n 4 - thursday\\n 5 - friday\\n 6 - saturday\\n 7 - sunday\\n')\n",
    "\n",
    "ask_1 = int(input('Which day is today?'))\n",
    "\n",
    "if ask_1 == (6 or 7):\n",
    "    print('\\nToday is your day off!')\n",
    "else: \n",
    "    print('You need to work!')"
   ]
  },
  {
   "cell_type": "code",
   "execution_count": null,
   "metadata": {},
   "outputs": [],
   "source": [
    "# Exercício 2 - Crie uma lista de 5 frutas e \n",
    "# verifique se a fruta 'Morango' faz parte da lista"
   ]
  },
  {
   "cell_type": "code",
   "execution_count": 4,
   "metadata": {},
   "outputs": [
    {
     "name": "stdout",
     "output_type": "stream",
     "text": [
      "The len is 5, that is righ!\n",
      "Also, the item strawberry was founded!\n"
     ]
    }
   ],
   "source": [
    "list_fruits = ['orange', 'cherry', 'fig', 'apple', 'strawberry']\n",
    "len_fruits = len(list_fruits)\n",
    "\n",
    "if len_fruits == 5:\n",
    "    print('The len is {}, that is righ!' .format(len_fruits)) \n",
    "    for i in list_fruits:\n",
    "        if i == 'strawberry':\n",
    "            print('Also, the item ''strawberry'' was founded!')\n",
    "else:\n",
    "    print('The len is invalid.')\n",
    "        "
   ]
  },
  {
   "cell_type": "code",
   "execution_count": null,
   "metadata": {},
   "outputs": [],
   "source": [
    "# Exercício 3 - Crie uma tupla de 4 elementos, \n",
    "# multiplique cada elemento da tupla por 2 \n",
    "# e guarde os resultados em uma lista"
   ]
  },
  {
   "cell_type": "code",
   "execution_count": 5,
   "metadata": {},
   "outputs": [
    {
     "name": "stdout",
     "output_type": "stream",
     "text": [
      "The dou1ble of tuple elements is:\n",
      "[20, 40, 60, 80].\n"
     ]
    }
   ],
   "source": [
    "tuple_numbers = (10,20,30,40)\n",
    "transf_numbers = list(tuple_numbers)\n",
    "new_list = []\n",
    "\n",
    "for i in transf_numbers:\n",
    "    double_i = i * 2\n",
    "    new_list.append(double_i)\n",
    "   \n",
    "print('The dou1ble of tuple elements is:\\n{}.' .format(new_list))\n",
    "    "
   ]
  },
  {
   "cell_type": "code",
   "execution_count": null,
   "metadata": {},
   "outputs": [],
   "source": [
    "# Exercício 4 - Crie uma sequência de números pares \n",
    "# entre 100 e 150 e imprima na tela"
   ]
  },
  {
   "cell_type": "code",
   "execution_count": 6,
   "metadata": {},
   "outputs": [
    {
     "name": "stdout",
     "output_type": "stream",
     "text": [
      "100 is even number\n",
      "102 is even number\n",
      "104 is even number\n",
      "106 is even number\n",
      "108 is even number\n",
      "110 is even number\n",
      "112 is even number\n",
      "114 is even number\n",
      "116 is even number\n",
      "118 is even number\n",
      "120 is even number\n",
      "122 is even number\n",
      "124 is even number\n",
      "126 is even number\n",
      "128 is even number\n",
      "130 is even number\n",
      "132 is even number\n",
      "134 is even number\n",
      "136 is even number\n",
      "138 is even number\n",
      "140 is even number\n",
      "142 is even number\n",
      "144 is even number\n",
      "146 is even number\n",
      "148 is even number\n",
      "150 is even number\n"
     ]
    }
   ],
   "source": [
    "# solved.01\n",
    "for i in range(100,151):\n",
    "    if i % 2 == 0:\n",
    "        print(str(i) + ' is even number')"
   ]
  },
  {
   "cell_type": "code",
   "execution_count": 7,
   "metadata": {},
   "outputs": [
    {
     "name": "stdout",
     "output_type": "stream",
     "text": [
      "100 is even number\n",
      "102 is even number\n",
      "104 is even number\n",
      "106 is even number\n",
      "108 is even number\n",
      "110 is even number\n",
      "112 is even number\n",
      "114 is even number\n",
      "116 is even number\n",
      "118 is even number\n",
      "120 is even number\n",
      "122 is even number\n",
      "124 is even number\n",
      "126 is even number\n",
      "128 is even number\n",
      "130 is even number\n",
      "132 is even number\n",
      "134 is even number\n",
      "136 is even number\n",
      "138 is even number\n",
      "140 is even number\n",
      "142 is even number\n",
      "144 is even number\n",
      "146 is even number\n",
      "148 is even number\n",
      "150 is even number\n"
     ]
    }
   ],
   "source": [
    "# solved.02\n",
    "for i in range(100,151,2):\n",
    "    print(str(i) + ' is even number')"
   ]
  },
  {
   "cell_type": "code",
   "execution_count": null,
   "metadata": {},
   "outputs": [],
   "source": [
    "# Exercício 5 - Crie uma variável chamada temperatura e \n",
    "# atribua o valor 40. \n",
    "# Enquanto temperatura for maior que 35, \n",
    "# imprima as temperaturas na tela"
   ]
  },
  {
   "cell_type": "code",
   "execution_count": 8,
   "metadata": {},
   "outputs": [
    {
     "name": "stdout",
     "output_type": "stream",
     "text": [
      "40\n",
      "39\n",
      "38\n",
      "37\n",
      "36\n",
      "Loop finished!\n"
     ]
    }
   ],
   "source": [
    "temp = 40\n",
    "\n",
    "while temp > 35:\n",
    "    print(temp)\n",
    "    temp -= 1\n",
    "print('Loop finished!')"
   ]
  },
  {
   "cell_type": "code",
   "execution_count": null,
   "metadata": {},
   "outputs": [],
   "source": [
    "# Exercício 6 - Crie uma variável chamada contador = 0. \n",
    "# Enquanto counter for menor que 100, imprima os valores na tela,\n",
    "# mas quando for encontrado o valor 23, \n",
    "# interrompa a execução do programa"
   ]
  },
  {
   "cell_type": "code",
   "execution_count": 9,
   "metadata": {},
   "outputs": [
    {
     "name": "stdout",
     "output_type": "stream",
     "text": [
      "0\n",
      "1\n",
      "2\n",
      "3\n",
      "4\n",
      "5\n",
      "6\n",
      "7\n",
      "8\n",
      "9\n",
      "10\n",
      "11\n",
      "12\n",
      "13\n",
      "14\n",
      "15\n",
      "16\n",
      "17\n",
      "18\n",
      "19\n",
      "20\n",
      "21\n",
      "22\n",
      "Loop finished!\n"
     ]
    }
   ],
   "source": [
    "counter = 0\n",
    "\n",
    "while counter < 100:\n",
    "    print(counter)\n",
    "    counter += 1\n",
    "    if counter == 23:\n",
    "        break\n",
    "print('Loop finished!')"
   ]
  },
  {
   "cell_type": "code",
   "execution_count": null,
   "metadata": {},
   "outputs": [],
   "source": [
    "# Exercício 7 - Crie uma lista vazia \n",
    "# e uma variável com valor 4. \n",
    "# Enquanto o valor da variável for menor ou igual a 20, \n",
    "# adicione à lista, apenas os valores pares e imprima a lista"
   ]
  },
  {
   "cell_type": "code",
   "execution_count": 10,
   "metadata": {},
   "outputs": [
    {
     "name": "stdout",
     "output_type": "stream",
     "text": [
      "[4, 6, 8, 10, 12, 14, 16, 18, 20]\n"
     ]
    }
   ],
   "source": [
    "list_1 = []\n",
    "i = 4\n",
    "\n",
    "while i <= 20:\n",
    "    list_1.append(i)\n",
    "    i += 2\n",
    "print(list_1)"
   ]
  },
  {
   "cell_type": "code",
   "execution_count": null,
   "metadata": {
    "scrolled": true
   },
   "outputs": [],
   "source": [
    "# Exercício 8 - Transforme o resultado desta função range \n",
    "#em uma lista: range(5, 45, 2)\n",
    "nums = range(5, 45, 2)"
   ]
  },
  {
   "cell_type": "code",
   "execution_count": 11,
   "metadata": {
    "scrolled": true
   },
   "outputs": [
    {
     "name": "stdout",
     "output_type": "stream",
     "text": [
      "[5, 7, 9, 11, 13, 15, 17, 19, 21, 23, 25, 27, 29, 31, 33, 35, 37, 39, 41, 43]\n"
     ]
    }
   ],
   "source": [
    "# solved.01\n",
    "list_2 = []\n",
    "for i in range(5, 45, 2):\n",
    "    list_2.append(i)\n",
    "print(list_2)"
   ]
  },
  {
   "cell_type": "code",
   "execution_count": 12,
   "metadata": {},
   "outputs": [
    {
     "name": "stdout",
     "output_type": "stream",
     "text": [
      "[5, 7, 9, 11, 13, 15, 17, 19, 21, 23, 25, 27, 29, 31, 33, 35, 37, 39, 41, 43]\n"
     ]
    }
   ],
   "source": [
    "# solved.02\n",
    "nums = range(5, 45, 2)\n",
    "print(list(nums))"
   ]
  },
  {
   "cell_type": "code",
   "execution_count": null,
   "metadata": {},
   "outputs": [],
   "source": [
    "# Exercício 9 - Faça a correção dos erros no código abaixo e execute o programa. \n",
    "# Dica: são 3 erros.\n",
    "\n",
    "temperatura = float(input('Qual a temperatura? '))\n",
    "if temperatura > 30\n",
    "print('Vista roupas leves.')\n",
    "else\n",
    "    print('Busque seus casacos.')"
   ]
  },
  {
   "cell_type": "code",
   "execution_count": 13,
   "metadata": {},
   "outputs": [
    {
     "name": "stdout",
     "output_type": "stream",
     "text": [
      "Qual a temperatura? 24\n",
      "Busque seus casacos.\n"
     ]
    }
   ],
   "source": [
    "temperatura = float(input('Qual a temperatura? '))\n",
    "if temperatura > 30:\n",
    "    print('Vista roupas leves.')\n",
    "else:\n",
    "    print('Busque seus casacos.')"
   ]
  },
  {
   "cell_type": "code",
   "execution_count": null,
   "metadata": {},
   "outputs": [],
   "source": [
    "# Exercício 10 - Faça um programa que conte quantas vezes a letra \"r\" aparece na frase abaixo. \n",
    "# Use um placeholder na sua instrução de impressão\n",
    "\n",
    "# “É melhor, muito melhor, contentar-se com a realidade; se ela não é tão brilhante como os sonhos, tem pelo menos a \n",
    "# vantagem de existir.” (Machado de Assis)\n",
    "\n",
    "frase = \"É melhor, muito melhor, contentar-se com a realidade; se ela não é tão brilhante como os sonhos, tem pelo menos a vantagem de existir.\" "
   ]
  },
  {
   "cell_type": "code",
   "execution_count": 14,
   "metadata": {},
   "outputs": [
    {
     "name": "stdout",
     "output_type": "stream",
     "text": [
      "The letter \"r\" appears 6 times in setence above.\n"
     ]
    }
   ],
   "source": [
    "frase = \"É melhor, muito melhor, contentar-se com a realidade; se ela não é tão brilhante como os sonhos, tem pelo menos a vantagem de existir.\" \n",
    "count = 0\n",
    "\n",
    "for i in frase:\n",
    "    if i == 'r': \n",
    "        count += 1\n",
    "print('The letter \"r\" appears %s times in setence above.' %(count))"
   ]
  },
  {
   "cell_type": "markdown",
   "metadata": {},
   "source": [
    "# Fim"
   ]
  },
  {
   "cell_type": "markdown",
   "metadata": {},
   "source": [
    "### Obrigado - Data Science Academy - <a href=\"http://facebook.com/dsacademybr\">facebook.com/dsacademybr</a>"
   ]
  }
 ],
 "metadata": {
  "kernelspec": {
   "display_name": "Python 3",
   "language": "python",
   "name": "python3"
  },
  "language_info": {
   "codemirror_mode": {
    "name": "ipython",
    "version": 3
   },
   "file_extension": ".py",
   "mimetype": "text/x-python",
   "name": "python",
   "nbconvert_exporter": "python",
   "pygments_lexer": "ipython3",
   "version": "3.7.7"
  }
 },
 "nbformat": 4,
 "nbformat_minor": 1
}
